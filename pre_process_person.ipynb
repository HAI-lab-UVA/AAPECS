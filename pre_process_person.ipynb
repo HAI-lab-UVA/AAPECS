{
 "cells": [
  {
   "cell_type": "code",
   "execution_count": 9,
   "metadata": {},
   "outputs": [],
   "source": [
    "from param import ml_names, pers_names, data_name, data_path, results_path, thres_sel_feat\n",
    "from pre_process import remove_missing\n",
    "from feature_extraction import feature_extraction\n",
    "from imputation import impute_min\n",
    "import pandas as pd\n",
    "import numpy as np\n",
    "import os"
   ]
  },
  {
   "cell_type": "code",
   "execution_count": 2,
   "metadata": {},
   "outputs": [],
   "source": [
    "os.chdir(data_path)\n",
    "df_data = pd.read_csv(data_name)"
   ]
  },
  {
   "cell_type": "code",
   "execution_count": 3,
   "metadata": {},
   "outputs": [],
   "source": [
    "df_miss = remove_missing(df=df_data, proc_call = False, remove_col = False, remove_par = True)"
   ]
  },
  {
   "cell_type": "code",
   "execution_count": 4,
   "metadata": {},
   "outputs": [],
   "source": [
    "df_feat = feature_extraction(df_miss)"
   ]
  },
  {
   "cell_type": "code",
   "execution_count": 6,
   "metadata": {},
   "outputs": [],
   "source": [
    "# Remove participant with only fitbit (Data clean)\n",
    "index_del = list()\n",
    "ls_vals = df_feat['phone_data_yield_rapids_ratiovalidyieldedminutes_mean'].tolist()\n",
    "ls_index = df_feat.index.tolist()\n",
    "for i, val in enumerate(ls_vals):\n",
    "    if pd.isna(val):\n",
    "        index_del.append(ls_index[i])\n",
    "\n",
    "df_feat_new = df_feat.drop(index_del)"
   ]
  },
  {
   "cell_type": "code",
   "execution_count": 11,
   "metadata": {},
   "outputs": [],
   "source": [
    "df_miss_new = remove_missing(df=df_feat_new, remove_truth = False, remove_android = False, proc_call = False, remove_col = True, remove_par = False)\n",
    "df_ml_input = impute_min(df_miss_new)\n",
    "df_ml_input.to_csv('ml_input.csv')"
   ]
  }
 ],
 "metadata": {
  "kernelspec": {
   "display_name": "Python 3",
   "language": "python",
   "name": "python3"
  },
  "language_info": {
   "codemirror_mode": {
    "name": "ipython",
    "version": 3
   },
   "file_extension": ".py",
   "mimetype": "text/x-python",
   "name": "python",
   "nbconvert_exporter": "python",
   "pygments_lexer": "ipython3",
   "version": "3.7.4"
  }
 },
 "nbformat": 4,
 "nbformat_minor": 4
}
