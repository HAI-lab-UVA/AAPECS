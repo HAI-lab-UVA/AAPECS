{
 "cells": [
  {
   "cell_type": "code",
   "execution_count": 2,
   "metadata": {},
   "outputs": [],
   "source": [
    "from param import ml_names, pers_names, data_name, data_path, results_path, thres_sel_feat\n",
    "from ml_models import loocv_person, agg_feat_imp\n",
    "from ml_models import MAE, MSE, RMSE, MAPE, R2\n",
    "import pandas as pd\n",
    "import numpy as np\n",
    "import os"
   ]
  },
  {
   "cell_type": "code",
   "execution_count": 4,
   "metadata": {},
   "outputs": [],
   "source": [
    "os.chdir(results_path)\n",
    "df_ml_input_new = pd.read_csv('ml_input.csv', index_col = 0)"
   ]
  },
  {
   "cell_type": "code",
   "execution_count": null,
   "metadata": {},
   "outputs": [],
   "source": [
    "ml_model_name = 'lasso'\n",
    "ls_results_lasso = list()\n",
    "ls_feats_lasso = list()\n",
    "for pers_name in pers_names:\n",
    "    ls_results_loocv_lasso, ls_feats_loocv_lasso = loocv_person(df_ml_input_new, pers_name, ml_model_name)\n",
    "    ls_results_lasso.extend(ls_results_loocv_lasso)\n",
    "    ls_feats_lasso.extend(ls_feats_loocv_lasso)\n",
    "    df_results_lasso_raw = pd.DataFrame(ls_results_loocv_lasso, columns = ['Personality', 'Participant ID', 'Y test', 'Y pred', 'Best param'])\n",
    "#     df_feats_lasso_raw = pd.DataFrame()\n",
    "#     df_feats_lasso_raw['Personality'] = df_results_lasso_raw['Personality'].tolist()\n",
    "#     df_feats_lasso_raw['Participant ID'] = df_results_lasso_raw['Participant ID'].tolist()\n",
    "#     df_feats_lasso_raw['Feats'] = ls_feats_loocv_lasso\n",
    "    df_results_lasso_raw.to_csv('lasso_' + pers_name + '_results_raw.csv', index=None)\n",
    "#     df_feats_lasso_raw.to_csv('lasso_' + pers_name + '_feats_raw.csv', index=None)"
   ]
  },
  {
   "cell_type": "code",
   "execution_count": null,
   "metadata": {},
   "outputs": [],
   "source": [
    "df_results_lasso = pd.DataFrame(ls_results_lasso, columns = ['Personality', 'Participant ID', 'Y test', 'Y pred', 'Best param'])\n",
    "df_results_lasso.head()"
   ]
  },
  {
   "cell_type": "code",
   "execution_count": null,
   "metadata": {},
   "outputs": [],
   "source": [
    "ls_evalutation_lasso = list()\n",
    "df_results_lasso_groups = df_results_lasso.groupby('Personality')\n",
    "df_results_lasso_group_names = df_results_lasso_groups.size().index\n",
    "for df_results_lasso_group_name in df_results_lasso_group_names:\n",
    "    ls_evaluation_row_lasso = [df_results_lasso_group_name]\n",
    "    df_results_lasso_group = df_results_lasso_groups.get_group(df_results_lasso_group_name)\n",
    "    ls_test_vals_lasso = list()\n",
    "    ls_pred_vals_lasso = list()\n",
    "    for val in df_results_lasso_group['Y test'].tolist():\n",
    "        if len(val) != 1:\n",
    "            print('Error')\n",
    "        \n",
    "        ls_test_vals_lasso.append(val[0])\n",
    "\n",
    "    for val in df_results_lasso_group['Y pred'].tolist():\n",
    "        if len(val) != 1:\n",
    "            print('Error')\n",
    "            \n",
    "        ls_pred_vals_lasso.append(val[0])\n",
    "    \n",
    "    df_evaluation_input_lasso = pd.DataFrame()\n",
    "    df_evaluation_input_lasso['Y_test'] = ls_test_vals_lasso\n",
    "    df_evaluation_input_lasso['Y_pred'] = ls_pred_vals_lasso\n",
    "    \n",
    "#     df_evalution_output_xgb = evaluate(df_evaluation_input_xgb)\n",
    "    ls_evalutation_lasso.append([df_results_lasso_group_name, \n",
    "                               MAE(ls_pred_vals_lasso, ls_test_vals_lasso),\n",
    "                               MSE(ls_pred_vals_lasso, ls_test_vals_lasso),\n",
    "                               RMSE(ls_pred_vals_lasso, ls_test_vals_lasso),\n",
    "                               MAPE(ls_pred_vals_lasso, ls_test_vals_lasso),\n",
    "                               R2(ls_pred_vals_lasso, ls_test_vals_lasso)])"
   ]
  },
  {
   "cell_type": "code",
   "execution_count": null,
   "metadata": {},
   "outputs": [],
   "source": [
    "df_results_summary = pd.DataFrame(ls_evalutation_lasso, columns = ['Personality', 'MAE', 'MSE', 'RMSE', 'MAPE(%)', 'R2'])\n",
    "df_results_summary.to_csv('lasso_results_summary.csv', index=None)"
   ]
  }
 ],
 "metadata": {
  "kernelspec": {
   "display_name": "Python 3",
   "language": "python",
   "name": "python3"
  },
  "language_info": {
   "codemirror_mode": {
    "name": "ipython",
    "version": 3
   },
   "file_extension": ".py",
   "mimetype": "text/x-python",
   "name": "python",
   "nbconvert_exporter": "python",
   "pygments_lexer": "ipython3",
   "version": "3.8.3"
  }
 },
 "nbformat": 4,
 "nbformat_minor": 4
}
