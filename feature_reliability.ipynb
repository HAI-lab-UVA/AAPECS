{
 "cells": [
  {
   "cell_type": "code",
   "execution_count": 1,
   "metadata": {},
   "outputs": [],
   "source": [
    "from param import ml_names, pers_names, col_infor, data_name, data_path, results_path\n",
    "from pre_process import remove_missing\n",
    "from feature_extraction import feature_extraction\n",
    "from imputation import impute_min, impute_iter\n",
    "from scipy import stats\n",
    "import pandas as pd\n",
    "import numpy as np\n",
    "import os"
   ]
  },
  {
   "cell_type": "markdown",
   "metadata": {},
   "source": [
    "## Person-level"
   ]
  },
  {
   "cell_type": "code",
   "execution_count": 2,
   "metadata": {},
   "outputs": [],
   "source": [
    "os.chdir(data_path)\n",
    "df_data = pd.read_csv(data_name)\n",
    "df_miss = remove_missing(df=df_data, proc_call = False, remove_col = False, remove_par = True)"
   ]
  },
  {
   "cell_type": "code",
   "execution_count": 3,
   "metadata": {},
   "outputs": [],
   "source": [
    "index_del = list()\n",
    "df_miss_groups = df_miss.groupby('participantID')\n",
    "miss_group_names = df_miss_groups.size().index\n",
    "for miss_group_name in miss_group_names:\n",
    "    df_miss_group = df_miss_groups.get_group(miss_group_name)\n",
    "    if df_miss_group['phone_data_yield_rapids_ratiovalidyieldedminutes'].isnull().all():\n",
    "        index_del.extend(df_miss_group.index.tolist())\n",
    "\n",
    "df_miss_new = df_miss.drop(index_del)"
   ]
  },
  {
   "cell_type": "code",
   "execution_count": 4,
   "metadata": {},
   "outputs": [],
   "source": [
    "first_week = list()\n",
    "second_week = list()\n",
    "df_groups = df_miss_new.groupby('participantID')\n",
    "group_names = df_groups.size().index\n",
    "for group_name in group_names:\n",
    "    df_group = df_groups.get_group(group_name)\n",
    "    df_group.reset_index(drop=True, inplace=True)\n",
    "    if len(df_group) >= 14:\n",
    "        # First week\n",
    "        df_group_first = df_group[0:7]\n",
    "        # Second week\n",
    "        df_group_second = df_group[7:14]\n",
    "        df_group_first.reset_index(drop=True, inplace=True)\n",
    "        df_group_second.reset_index(drop=True, inplace=True)\n",
    "        first_week.append(df_group_first)\n",
    "        second_week.append(df_group_second)\n",
    "    \n",
    "df_first_week = pd.concat(first_week)\n",
    "df_second_week = pd.concat(second_week)"
   ]
  },
  {
   "cell_type": "code",
   "execution_count": 5,
   "metadata": {},
   "outputs": [],
   "source": [
    "os.chdir(data_path)\n",
    "df_ml_input = pd.read_csv('ml_input_person.csv', index_col=0)"
   ]
  },
  {
   "cell_type": "code",
   "execution_count": 6,
   "metadata": {},
   "outputs": [],
   "source": [
    "df_feat_first = feature_extraction(df_first_week)\n",
    "df_feat_second = feature_extraction(df_second_week)"
   ]
  },
  {
   "cell_type": "code",
   "execution_count": 7,
   "metadata": {},
   "outputs": [],
   "source": [
    "df_feat_first_ml = df_feat_first[df_ml_input.columns.tolist()]\n",
    "df_feat_second_ml = df_feat_second[df_ml_input.columns.tolist()]"
   ]
  },
  {
   "cell_type": "code",
   "execution_count": 8,
   "metadata": {},
   "outputs": [],
   "source": [
    "df_feat_first_com = impute_min(df_feat_first_ml)\n",
    "df_feat_second_com = impute_min(df_feat_second_ml)"
   ]
  },
  {
   "cell_type": "code",
   "execution_count": 9,
   "metadata": {},
   "outputs": [],
   "source": [
    "feat_names = df_ml_input.columns.tolist()\n",
    "ls_relia = list()\n",
    "for pers_name in pers_names:\n",
    "    feat_names.remove(pers_name)\n",
    "for feat_name in feat_names:\n",
    "    ls_first_val = df_feat_first_com[feat_name].tolist()\n",
    "    ls_second_val = df_feat_second_com[feat_name].tolist()\n",
    "    corr_results = stats.pearsonr(ls_first_val, ls_second_val)\n",
    "    ls_relia.append([feat_name, corr_results[0]])"
   ]
  },
  {
   "cell_type": "code",
   "execution_count": 10,
   "metadata": {},
   "outputs": [],
   "source": [
    "df_relia = pd.DataFrame(ls_relia, columns = ['feat', 'correlation'])\n",
    "df_relia.to_csv('feat_reliability_person.csv')"
   ]
  },
  {
   "cell_type": "markdown",
   "metadata": {},
   "source": [
    "## Day-level"
   ]
  },
  {
   "cell_type": "code",
   "execution_count": 2,
   "metadata": {},
   "outputs": [],
   "source": [
    "os.chdir(data_path)\n",
    "df_data = pd.read_csv(data_name)"
   ]
  },
  {
   "cell_type": "code",
   "execution_count": 3,
   "metadata": {},
   "outputs": [
    {
     "name": "stderr",
     "output_type": "stream",
     "text": [
      "/opt/anaconda3/lib/python3.8/site-packages/pandas/core/indexing.py:671: SettingWithCopyWarning: \n",
      "A value is trying to be set on a copy of a slice from a DataFrame\n",
      "\n",
      "See the caveats in the documentation: https://pandas.pydata.org/pandas-docs/stable/user_guide/indexing.html#returning-a-view-versus-a-copy\n",
      "  self._setitem_with_indexer(indexer, value)\n"
     ]
    }
   ],
   "source": [
    "df_miss = remove_missing(df=df_data, remove_col=False, remove_row = True, remove_par=True)\n",
    "df_miss_new = remove_missing(df=df_miss, remove_truth = False, remove_android = False, proc_call = False, remove_col = True)"
   ]
  },
  {
   "cell_type": "code",
   "execution_count": 4,
   "metadata": {},
   "outputs": [],
   "source": [
    "first_week = list()\n",
    "second_week = list()\n",
    "df_groups = df_miss_new.groupby('participantID')\n",
    "group_names = df_groups.size().index\n",
    "for group_name in group_names:\n",
    "    df_group = df_groups.get_group(group_name)\n",
    "    df_group.reset_index(drop=True, inplace=True)\n",
    "    if len(df_group) >= 14:\n",
    "        # First week\n",
    "        df_group_first = df_group[0:7]\n",
    "        # Second week\n",
    "        df_group_second = df_group[7:14]\n",
    "        df_group_first.reset_index(drop=True, inplace=True)\n",
    "        df_group_second.reset_index(drop=True, inplace=True)\n",
    "        first_week.append(df_group_first)\n",
    "        second_week.append(df_group_second)\n",
    "    \n",
    "df_first_week = pd.concat(first_week)\n",
    "df_second_week = pd.concat(second_week)"
   ]
  },
  {
   "cell_type": "code",
   "execution_count": 5,
   "metadata": {},
   "outputs": [],
   "source": [
    "os.chdir(data_path)\n",
    "df_ml_input = pd.read_csv('ml_input_day.csv', index_col=0)"
   ]
  },
  {
   "cell_type": "code",
   "execution_count": 6,
   "metadata": {},
   "outputs": [
    {
     "name": "stdout",
     "output_type": "stream",
     "text": [
      "Imputation:  0\n",
      "Imputation:  0\n"
     ]
    }
   ],
   "source": [
    "feat_names = df_ml_input.columns.tolist()\n",
    "ls_relia = list()\n",
    "for pers_name in pers_names:\n",
    "    feat_names.remove(pers_name)\n",
    "\n",
    "df_first_week_com = impute_iter(df_first_week, feat_names, 1)\n",
    "df_second_week_com = impute_iter(df_second_week, feat_names, 1)"
   ]
  },
  {
   "cell_type": "code",
   "execution_count": 7,
   "metadata": {},
   "outputs": [
    {
     "name": "stderr",
     "output_type": "stream",
     "text": [
      "/opt/anaconda3/lib/python3.8/site-packages/scipy/stats/stats.py:3845: PearsonRConstantInputWarning: An input array is constant; the correlation coefficent is not defined.\n",
      "  warnings.warn(PearsonRConstantInputWarning())\n"
     ]
    }
   ],
   "source": [
    "df_first_week_imp = df_first_week_com[0][0]\n",
    "df_second_week_imp = df_second_week_com[0][0]\n",
    "for feat_name in feat_names:\n",
    "    ls_first_val = df_first_week_imp[feat_name].tolist()\n",
    "    ls_second_val = df_second_week_imp[feat_name].tolist()\n",
    "    corr_results = stats.pearsonr(ls_first_val, ls_second_val)\n",
    "    if not pd.isna(corr_results[0]):\n",
    "        ls_relia.append([feat_name, corr_results[0]])"
   ]
  },
  {
   "cell_type": "code",
   "execution_count": 8,
   "metadata": {},
   "outputs": [],
   "source": [
    "df_relia = pd.DataFrame(ls_relia, columns = ['feat', 'correlation'])\n",
    "df_relia.to_csv('feat_reliability_day_new.csv')"
   ]
  }
 ],
 "metadata": {
  "kernelspec": {
   "display_name": "Python 3",
   "language": "python",
   "name": "python3"
  },
  "language_info": {
   "codemirror_mode": {
    "name": "ipython",
    "version": 3
   },
   "file_extension": ".py",
   "mimetype": "text/x-python",
   "name": "python",
   "nbconvert_exporter": "python",
   "pygments_lexer": "ipython3",
   "version": "3.8.3"
  }
 },
 "nbformat": 4,
 "nbformat_minor": 4
}
