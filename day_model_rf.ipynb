{
 "cells": [
  {
   "cell_type": "code",
   "execution_count": 1,
   "metadata": {},
   "outputs": [],
   "source": [
    "from param import ml_names, pers_names, data_name, data_path, results_path, thres_sel_feat\n",
    "from ml_models import loocv_day, agg_feat_imp\n",
    "from ml_models import MAE, MSE, RMSE, MAPE, R2\n",
    "import pandas as pd\n",
    "import numpy as np\n",
    "import os"
   ]
  },
  {
   "cell_type": "code",
   "execution_count": 2,
   "metadata": {},
   "outputs": [],
   "source": [
    "os.chdir(results_path)\n",
    "df_ml_input_new = pd.read_csv('ml_input.csv', index_col = 0)"
   ]
  },
  {
   "cell_type": "code",
   "execution_count": null,
   "metadata": {},
   "outputs": [],
   "source": [
    "ml_model_name = 'rf'\n",
    "ls_results_rf = list()\n",
    "ls_feats_rf = list()\n",
    "for pers_name in pers_names:\n",
    "    ls_results_loocv_rf, ls_feats_loocv_rf = loocv_day(df_ml_input_new, pers_name, ml_model_name)\n",
    "    ls_results_rf.extend(ls_results_loocv_rf)\n",
    "    ls_feats_rf.extend(ls_feats_loocv_rf)\n",
    "    df_results_rf_raw = pd.DataFrame(ls_results_loocv_rf, columns = ['Personality', 'Participant ID', 'Y test', 'Y pred', 'Best param'])\n",
    "    df_feats_rf_raw = pd.DataFrame()\n",
    "    df_feats_rf_raw['Personality'] = df_results_rf_raw['Personality'].tolist()\n",
    "    df_feats_rf_raw['Participant ID'] = df_results_rf_raw['Participant ID'].tolist()\n",
    "    df_feats_rf_raw['Feats'] = ls_feats_loocv_rf\n",
    "    df_results_rf_raw.to_csv('rf_' + pers_name + '_results_raw.csv', index=None)\n",
    "    df_feats_rf_raw.to_csv('rf_' + pers_name + '_feats_raw.csv', index=None)"
   ]
  },
  {
   "cell_type": "code",
   "execution_count": null,
   "metadata": {},
   "outputs": [],
   "source": [
    "df_results_rf = pd.DataFrame(ls_results_rf, columns = ['Personality', 'Participant ID', 'MI_iteration', 'Y test', 'Y pred'])\n",
    "df_results_rf.head()"
   ]
  },
  {
   "cell_type": "code",
   "execution_count": null,
   "metadata": {},
   "outputs": [],
   "source": [
    "ls_evalutation_rf = list()\n",
    "df_results_rf_groups = df_results_rf.groupby('Personality')\n",
    "df_results_rf_group_names = df_results_rf_groups.size().index\n",
    "for df_results_rf_group_name in df_results_rf_group_names:\n",
    "    ls_evaluation_row_rf = [df_results_rf_group_name]\n",
    "    df_results_rf_group = df_results_rf_groups.get_group(df_results_rf_group_name)\n",
    "    ls_test_vals_rf = list()\n",
    "    ls_pred_vals_rf = list()\n",
    "    for val in df_results_rf_group['Y test'].tolist():\n",
    "        if len(val) < 1:\n",
    "            print('Error')\n",
    "        \n",
    "        ls_test_vals_rf.extend(val)\n",
    "\n",
    "    for val in df_results_rf_group['Y pred'].tolist():\n",
    "        if len(val) < 1:\n",
    "            print('Error')\n",
    "            \n",
    "        ls_pred_vals_rf.extend(val)\n",
    "    \n",
    "    df_evaluation_input_rf = pd.DataFrame()\n",
    "    df_evaluation_input_rf['Y_test'] = ls_test_vals_rf\n",
    "    df_evaluation_input_rf['Y_pred'] = ls_pred_vals_rf\n",
    "    \n",
    "#     df_evalution_output_xgb = evaluate(df_evaluation_input_xgb)\n",
    "    ls_evalutation_rf.append([df_results_rf_group_name, \n",
    "                               MAE(ls_pred_vals_rf, ls_test_vals_rf),\n",
    "                               MSE(ls_pred_vals_rf, ls_test_vals_rf),\n",
    "                               RMSE(ls_pred_vals_rf, ls_test_vals_rf),\n",
    "                               MAPE(ls_pred_vals_rf, ls_test_vals_rf),\n",
    "                               R2(ls_pred_vals_rf, ls_test_vals_rf)])"
   ]
  },
  {
   "cell_type": "code",
   "execution_count": null,
   "metadata": {},
   "outputs": [],
   "source": [
    "df_results_summary = pd.DataFrame(ls_evalutation_rf, columns = ['Personality', 'MAE', 'MSE', 'RMSE', 'MAPE(%)', 'R2'])\n",
    "df_results_summary.to_csv('rf_results_summary.csv', index=None)"
   ]
  },
  {
   "cell_type": "code",
   "execution_count": null,
   "metadata": {},
   "outputs": [],
   "source": [
    "dict_feats_summary_imp_rf, dict_feats_summary_freq_rf = agg_feat_imp(ls_feats_rf)"
   ]
  },
  {
   "cell_type": "code",
   "execution_count": null,
   "metadata": {},
   "outputs": [],
   "source": [
    "ls_feats_summary_imp_rf = list()\n",
    "for feat_name in dict_feats_summary_imp_rf:\n",
    "    ls_row = [feat_name, dict_feats_summary_imp_rf[feat_name]]\n",
    "    ls_feats_summary_imp_rf.append(ls_row)\n",
    "\n",
    "df_feats_summary_imp_rf = pd.DataFrame(ls_feats_summary_imp_rf, columns = ['Feature', 'Importance'])\n",
    "df_feats_summary_imp_rf.to_csv('rf_feats_imp_summary.csv',index=None)"
   ]
  },
  {
   "cell_type": "code",
   "execution_count": null,
   "metadata": {},
   "outputs": [],
   "source": [
    "ls_feats_summary_freq_rf = list()\n",
    "for feat_name in dict_feats_summary_freq_rf:\n",
    "    ls_row = [feat_name, dict_feats_summary_freq_rf[feat_name]]\n",
    "    ls_feats_summary_freq_rf.append(ls_row)\n",
    "\n",
    "df_feats_summary_freq_rf = pd.DataFrame(ls_feats_summary_freq_rf, columns = ['Feature', 'Frequency'])\n",
    "df_feats_summary_freq_rf.to_csv('rf_feats_freq_summary.csv',index=None)"
   ]
  }
 ],
 "metadata": {
  "kernelspec": {
   "display_name": "Python 3",
   "language": "python",
   "name": "python3"
  },
  "language_info": {
   "codemirror_mode": {
    "name": "ipython",
    "version": 3
   },
   "file_extension": ".py",
   "mimetype": "text/x-python",
   "name": "python",
   "nbconvert_exporter": "python",
   "pygments_lexer": "ipython3",
   "version": "3.8.3"
  }
 },
 "nbformat": 4,
 "nbformat_minor": 4
}
