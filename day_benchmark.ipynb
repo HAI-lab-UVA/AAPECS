{
 "cells": [
  {
   "cell_type": "code",
   "execution_count": 1,
   "metadata": {},
   "outputs": [],
   "source": [
    "from param import ml_names, pers_names, data_name, data_path, results_path, thres_sel_feat\n",
    "from ml_models import loocv_day_bench, var_dis\n",
    "from ml_models import MAE, MSE, RMSE, MAPE, R2\n",
    "import pandas as pd\n",
    "import numpy as np\n",
    "import os"
   ]
  },
  {
   "cell_type": "code",
   "execution_count": 2,
   "metadata": {},
   "outputs": [],
   "source": [
    "os.chdir(data_path)\n",
    "df_ml_input_new = pd.read_csv('ml_input_day.csv', index_col = 0)"
   ]
  },
  {
   "cell_type": "markdown",
   "metadata": {},
   "source": [
    "## Predict variance/distance"
   ]
  },
  {
   "cell_type": "code",
   "execution_count": 3,
   "metadata": {},
   "outputs": [],
   "source": [
    "df_results = var_dis(df_ml_input_new)\n",
    "df_results.to_csv('person_dis.csv')"
   ]
  },
  {
   "cell_type": "markdown",
   "metadata": {},
   "source": [
    "## Predict mean benchmark"
   ]
  },
  {
   "cell_type": "code",
   "execution_count": 3,
   "metadata": {},
   "outputs": [],
   "source": [
    "ls_results = list()\n",
    "for pers_name in pers_names:\n",
    "    ls_results_loocv = loocv_day_bench(df_ml_input_new, pers_name)\n",
    "    ls_results.extend(ls_results_loocv)"
   ]
  },
  {
   "cell_type": "code",
   "execution_count": 4,
   "metadata": {},
   "outputs": [
    {
     "data": {
      "text/html": [
       "<div>\n",
       "<style scoped>\n",
       "    .dataframe tbody tr th:only-of-type {\n",
       "        vertical-align: middle;\n",
       "    }\n",
       "\n",
       "    .dataframe tbody tr th {\n",
       "        vertical-align: top;\n",
       "    }\n",
       "\n",
       "    .dataframe thead th {\n",
       "        text-align: right;\n",
       "    }\n",
       "</style>\n",
       "<table border=\"1\" class=\"dataframe\">\n",
       "  <thead>\n",
       "    <tr style=\"text-align: right;\">\n",
       "      <th></th>\n",
       "      <th>Personality</th>\n",
       "      <th>Participant ID</th>\n",
       "      <th>Y test</th>\n",
       "      <th>Y pred</th>\n",
       "    </tr>\n",
       "  </thead>\n",
       "  <tbody>\n",
       "    <tr>\n",
       "      <th>0</th>\n",
       "      <td>neoConscientiousness</td>\n",
       "      <td>181</td>\n",
       "      <td>[3.166666667]</td>\n",
       "      <td>[2.8022204897094594]</td>\n",
       "    </tr>\n",
       "    <tr>\n",
       "      <th>1</th>\n",
       "      <td>neoConscientiousness</td>\n",
       "      <td>182</td>\n",
       "      <td>[2.75]</td>\n",
       "      <td>[2.8054977754581385]</td>\n",
       "    </tr>\n",
       "    <tr>\n",
       "      <th>2</th>\n",
       "      <td>neoConscientiousness</td>\n",
       "      <td>191</td>\n",
       "      <td>[3.25]</td>\n",
       "      <td>[2.800870495682457]</td>\n",
       "    </tr>\n",
       "    <tr>\n",
       "      <th>3</th>\n",
       "      <td>neoConscientiousness</td>\n",
       "      <td>198</td>\n",
       "      <td>[2.541666667]</td>\n",
       "      <td>[2.806817526238318]</td>\n",
       "    </tr>\n",
       "    <tr>\n",
       "      <th>4</th>\n",
       "      <td>neoConscientiousness</td>\n",
       "      <td>200</td>\n",
       "      <td>[3.125]</td>\n",
       "      <td>[2.8022097930312175]</td>\n",
       "    </tr>\n",
       "  </tbody>\n",
       "</table>\n",
       "</div>"
      ],
      "text/plain": [
       "            Personality  Participant ID         Y test                Y pred\n",
       "0  neoConscientiousness             181  [3.166666667]  [2.8022204897094594]\n",
       "1  neoConscientiousness             182         [2.75]  [2.8054977754581385]\n",
       "2  neoConscientiousness             191         [3.25]   [2.800870495682457]\n",
       "3  neoConscientiousness             198  [2.541666667]   [2.806817526238318]\n",
       "4  neoConscientiousness             200        [3.125]  [2.8022097930312175]"
      ]
     },
     "execution_count": 4,
     "metadata": {},
     "output_type": "execute_result"
    }
   ],
   "source": [
    "df_results = pd.DataFrame(ls_results, columns = ['Personality', 'Participant ID', 'Y test', 'Y pred'])\n",
    "df_results.head()"
   ]
  },
  {
   "cell_type": "code",
   "execution_count": 5,
   "metadata": {},
   "outputs": [],
   "source": [
    "ls_evalutation = list()\n",
    "df_results_groups = df_results.groupby('Personality')\n",
    "df_results_group_names = df_results_groups.size().index\n",
    "for df_results_group_name in df_results_group_names:\n",
    "    ls_evaluation_row = [df_results_group_name]\n",
    "    df_results_group = df_results_groups.get_group(df_results_group_name)\n",
    "    ls_test_vals = list()\n",
    "    ls_pred_vals = list()\n",
    "    for val in df_results_group['Y test'].tolist():\n",
    "        if len(val) != 1:\n",
    "            print('Error')\n",
    "        \n",
    "        ls_test_vals.append(val[0])\n",
    "\n",
    "    for val in df_results_group['Y pred'].tolist():\n",
    "        if len(val) != 1:\n",
    "            print('Error')\n",
    "            \n",
    "        ls_pred_vals.append(val[0])\n",
    "    \n",
    "    df_evaluation_input = pd.DataFrame()\n",
    "    df_evaluation_input['Y_test'] = ls_test_vals\n",
    "    df_evaluation_input['Y_pred'] = ls_pred_vals\n",
    "    \n",
    "#     df_evalution_output_xgb = evaluate(df_evaluation_input_xgb)\n",
    "    ls_evalutation.append([df_results_group_name, \n",
    "                               MAE(ls_pred_vals, ls_test_vals),\n",
    "                               MSE(ls_pred_vals, ls_test_vals)])"
   ]
  },
  {
   "cell_type": "code",
   "execution_count": 6,
   "metadata": {},
   "outputs": [],
   "source": [
    "df_results_summary = pd.DataFrame(ls_evalutation, columns = ['Personality', 'MAE', 'MSE'])"
   ]
  },
  {
   "cell_type": "code",
   "execution_count": 11,
   "metadata": {},
   "outputs": [],
   "source": [
    "df_results_summary.to_csv('day_benchmark.csv')"
   ]
  }
 ],
 "metadata": {
  "kernelspec": {
   "display_name": "Python 3",
   "language": "python",
   "name": "python3"
  },
  "language_info": {
   "codemirror_mode": {
    "name": "ipython",
    "version": 3
   },
   "file_extension": ".py",
   "mimetype": "text/x-python",
   "name": "python",
   "nbconvert_exporter": "python",
   "pygments_lexer": "ipython3",
   "version": "3.8.3"
  }
 },
 "nbformat": 4,
 "nbformat_minor": 4
}
