{
 "cells": [
  {
   "cell_type": "code",
   "execution_count": 1,
   "metadata": {},
   "outputs": [],
   "source": [
    "from param import ml_names, pers_names, data_name, data_path, results_path, thres_sel_feat\n",
    "from ml_models import loocv_day, agg_feat_imp\n",
    "from ml_models import MAE, MSE, RMSE, MAPE, R2\n",
    "import pandas as pd\n",
    "import numpy as np\n",
    "import os"
   ]
  },
  {
   "cell_type": "code",
   "execution_count": 2,
   "metadata": {},
   "outputs": [],
   "source": [
    "os.chdir(results_path)\n",
    "df_ml_input_new = pd.read_csv('ml_input_day.csv', index_col = 0)"
   ]
  },
  {
   "cell_type": "code",
   "execution_count": null,
   "metadata": {},
   "outputs": [],
   "source": [
    "ml_model_name = 'xgb'\n",
    "ls_results_xgb = list()\n",
    "ls_feats_xgb = list()\n",
    "for pers_name in pers_names:\n",
    "    ls_results_loocv_xgb, ls_feats_loocv_xgb = loocv_day(df_ml_input_new, pers_name, ml_model_name)\n",
    "    ls_results_xgb.extend(ls_results_loocv_xgb)\n",
    "    ls_feats_xgb.extend(ls_feats_loocv_xgb)\n",
    "    df_results_xgb_raw = pd.DataFrame(ls_results_loocv_xgb, columns = ['Personality', 'Participant ID', 'Y test', 'Y pred', 'Best param'])\n",
    "    df_feats_xgb_raw = pd.DataFrame()\n",
    "    df_feats_xgb_raw['Personality'] = df_results_xgb_raw['Personality'].tolist()\n",
    "    df_feats_xgb_raw['Participant ID'] = df_results_xgb_raw['Participant ID'].tolist()\n",
    "    df_feats_xgb_raw['Feats'] = ls_feats_loocv_xgb\n",
    "    df_results_xgb_raw.to_csv('xgb_' + pers_name + '_results_raw.csv', index=None)\n",
    "    df_feats_xgb_raw.to_csv('xgb_' + pers_name + '_feats_raw.csv', index=None)"
   ]
  },
  {
   "cell_type": "code",
   "execution_count": null,
   "metadata": {},
   "outputs": [],
   "source": [
    "df_results_xgb = pd.DataFrame(ls_results_xgb, columns = ['Personality', 'Participant ID', 'Y test', 'Y pred', 'Best param'])\n",
    "df_results_xgb.head()"
   ]
  },
  {
   "cell_type": "code",
   "execution_count": null,
   "metadata": {},
   "outputs": [],
   "source": [
    "ls_evalutation_xgb = list()\n",
    "df_results_xgb_groups = df_results_xgb.groupby('Personality')\n",
    "df_results_xgb_group_names = df_results_xgb_groups.size().index\n",
    "for df_results_xgb_group_name in df_results_xgb_group_names:\n",
    "    ls_evaluation_row_xgb = [df_results_xgb_group_name]\n",
    "    df_results_xgb_group = df_results_xgb_groups.get_group(df_results_xgb_group_name)\n",
    "    ls_test_vals_xgb = list()\n",
    "    ls_pred_vals_xgb = list()\n",
    "    for val in df_results_xgb_group['Y test'].tolist():\n",
    "        if len(val) != 1:\n",
    "            print('Error')\n",
    "        \n",
    "        ls_test_vals_xgb.append(val[0])\n",
    "\n",
    "    for val in df_results_xgb_group['Y pred'].tolist():\n",
    "        if len(val) != 1:\n",
    "            print('Error')\n",
    "            \n",
    "        ls_pred_vals_xgb.append(val[0])\n",
    "    \n",
    "    df_evaluation_input_xgb = pd.DataFrame()\n",
    "    df_evaluation_input_xgb['Y_test'] = ls_test_vals_xgb\n",
    "    df_evaluation_input_xgb['Y_pred'] = ls_pred_vals_xgb\n",
    "    \n",
    "#     df_evalution_output_xgb = evaluate(df_evaluation_input_xgb)\n",
    "    ls_evalutation_xgb.append([df_results_xgb_group_name, \n",
    "                               MAE(ls_pred_vals_xgb, ls_test_vals_xgb),\n",
    "                               MSE(ls_pred_vals_xgb, ls_test_vals_xgb),\n",
    "                               RMSE(ls_pred_vals_xgb, ls_test_vals_xgb),\n",
    "                               MAPE(ls_pred_vals_xgb, ls_test_vals_xgb),\n",
    "                               R2(ls_pred_vals_xgb, ls_test_vals_xgb)])"
   ]
  },
  {
   "cell_type": "code",
   "execution_count": null,
   "metadata": {},
   "outputs": [],
   "source": [
    "df_results_summary = pd.DataFrame(ls_evalutation_xgb, columns = ['Personality', 'MAE', 'MSE', 'RMSE', 'MAPE(%)', 'R2'])\n",
    "df_results_summary.to_csv('xgb_results_summary.csv', index=None)"
   ]
  },
  {
   "cell_type": "code",
   "execution_count": null,
   "metadata": {},
   "outputs": [],
   "source": [
    "dict_feats_summary_imp_xgb, dict_feats_summary_freq_xgb = agg_feat_imp(ls_feats_xgb)"
   ]
  },
  {
   "cell_type": "code",
   "execution_count": null,
   "metadata": {},
   "outputs": [],
   "source": [
    "ls_feats_summary_imp_xgb = list()\n",
    "for feat_name in dict_feats_summary_imp_xgb:\n",
    "    ls_row = [feat_name, dict_feats_summary_imp_xgb[feat_name]]\n",
    "    ls_feats_summary_imp_xgb.append(ls_row)\n",
    "\n",
    "df_feats_summary_imp_xgb = pd.DataFrame(ls_feats_summary_imp_xgb, columns = ['Feature', 'Importance'])\n",
    "df_feats_summary_imp_xgb.to_csv('xgb_feats_imp_summary.csv',index=None)"
   ]
  },
  {
   "cell_type": "code",
   "execution_count": null,
   "metadata": {},
   "outputs": [],
   "source": [
    "ls_feats_summary_freq_xgb = list()\n",
    "for feat_name in dict_feats_summary_freq_xgb:\n",
    "    ls_row = [feat_name, dict_feats_summary_freq_xgb[feat_name]]\n",
    "    ls_feats_summary_freq_xgb.append(ls_row)\n",
    "\n",
    "df_feats_summary_freq_xgb = pd.DataFrame(ls_feats_summary_freq_xgb, columns = ['Feature', 'Importance'])\n",
    "df_feats_summary_freq_xgb.to_csv('xgb_feats_freq_summary.csv',index=None)"
   ]
  }
 ],
 "metadata": {
  "kernelspec": {
   "display_name": "Python 3",
   "language": "python",
   "name": "python3"
  },
  "language_info": {
   "codemirror_mode": {
    "name": "ipython",
    "version": 3
   },
   "file_extension": ".py",
   "mimetype": "text/x-python",
   "name": "python",
   "nbconvert_exporter": "python",
   "pygments_lexer": "ipython3",
   "version": "3.8.3"
  }
 },
 "nbformat": 4,
 "nbformat_minor": 4
}
